{
 "cells": [
  {
   "cell_type": "markdown",
   "metadata": {},
   "source": [
    "## Arrays in python\n"
   ]
  },
  {
   "cell_type": "markdown",
   "metadata": {},
   "source": [
    "#### 1. array(data type, value list):- This function is used to create an array with data type and value list specified in its arguments.\n",
    "\n",
    "#### 2. append():- This function is used to add the value mentioned in its arguments at the end of the array.\n",
    "\n",
    "#### 3. insert(i,x) :- This function is used to add the value(x) at the ith position specified in its argument.\n",
    "\n",
    "#### 4. pop():- This function removes the element at the position mentioned in its argument and returns it.\n",
    "\n",
    "#### 5. remove():- This function is used to remove the first occurrence of the value mentioned in its arguments.\n",
    "\n",
    "#### 6. index() :- This function returns the index of the first occurrence of value mentioned in arguments.\n",
    "\n",
    "#### 7. reverse() :- This function reverses the array.\n"
   ]
  },
  {
   "cell_type": "code",
   "execution_count": 39,
   "metadata": {},
   "outputs": [],
   "source": [
    "import array\n",
    "arr=array.array('i',[1,2,3])"
   ]
  },
  {
   "cell_type": "code",
   "execution_count": 11,
   "metadata": {},
   "outputs": [
    {
     "name": "stdout",
     "output_type": "stream",
     "text": [
      "Element of array 1\n",
      "Element of array 2\n",
      "Element of array 3\n"
     ]
    }
   ],
   "source": [
    "for i in range(0,3):\n",
    "    print(\"Element of array\",arr[i])"
   ]
  },
  {
   "cell_type": "code",
   "execution_count": 31,
   "metadata": {},
   "outputs": [
    {
     "name": "stdout",
     "output_type": "stream",
     "text": [
      "array('i', [1, 2, 3, 5])\n"
     ]
    }
   ],
   "source": [
    "arr.append(5)\n",
    "print(arr)"
   ]
  },
  {
   "cell_type": "code",
   "execution_count": 32,
   "metadata": {},
   "outputs": [
    {
     "name": "stdout",
     "output_type": "stream",
     "text": [
      "array('i', [2, 3, 5])\n"
     ]
    }
   ],
   "source": [
    "arr.pop(0)\n",
    "print(arr)"
   ]
  },
  {
   "cell_type": "code",
   "execution_count": 38,
   "metadata": {},
   "outputs": [
    {
     "name": "stdout",
     "output_type": "stream",
     "text": [
      "array('i', [5])\n"
     ]
    }
   ],
   "source": [
    "#arr.remove(2)\n",
    "print(arr)"
   ]
  },
  {
   "cell_type": "code",
   "execution_count": 40,
   "metadata": {},
   "outputs": [
    {
     "data": {
      "text/plain": [
       "0"
      ]
     },
     "execution_count": 40,
     "metadata": {},
     "output_type": "execute_result"
    }
   ],
   "source": [
    "arr.index(1)"
   ]
  },
  {
   "cell_type": "code",
   "execution_count": 47,
   "metadata": {},
   "outputs": [],
   "source": [
    "arr.reverse()"
   ]
  },
  {
   "cell_type": "code",
   "execution_count": null,
   "metadata": {},
   "outputs": [],
   "source": [
    "arr"
   ]
  },
  {
   "cell_type": "markdown",
   "metadata": {},
   "source": [
    "### List in python\n"
   ]
  },
  {
   "cell_type": "code",
   "execution_count": 49,
   "metadata": {},
   "outputs": [],
   "source": [
    "lis=[1,2,3,4]"
   ]
  },
  {
   "cell_type": "code",
   "execution_count": 51,
   "metadata": {},
   "outputs": [
    {
     "data": {
      "text/plain": [
       "list"
      ]
     },
     "execution_count": 51,
     "metadata": {},
     "output_type": "execute_result"
    }
   ],
   "source": [
    "type(lis)"
   ]
  },
  {
   "cell_type": "code",
   "execution_count": 52,
   "metadata": {},
   "outputs": [],
   "source": [
    "lis.append(5)"
   ]
  },
  {
   "cell_type": "code",
   "execution_count": 53,
   "metadata": {},
   "outputs": [
    {
     "data": {
      "text/plain": [
       "[1, 2, 3, 4, 5]"
      ]
     },
     "execution_count": 53,
     "metadata": {},
     "output_type": "execute_result"
    }
   ],
   "source": [
    "lis"
   ]
  },
  {
   "cell_type": "code",
   "execution_count": 55,
   "metadata": {},
   "outputs": [
    {
     "data": {
      "text/plain": [
       "5"
      ]
     },
     "execution_count": 55,
     "metadata": {},
     "output_type": "execute_result"
    }
   ],
   "source": [
    "lis.pop()"
   ]
  },
  {
   "cell_type": "code",
   "execution_count": null,
   "metadata": {},
   "outputs": [],
   "source": [
    "lis.reverse()"
   ]
  },
  {
   "cell_type": "code",
   "execution_count": null,
   "metadata": {},
   "outputs": [],
   "source": [
    "lis"
   ]
  },
  {
   "cell_type": "markdown",
   "metadata": {},
   "source": [
    "### Program for array rotation"
   ]
  },
  {
   "cell_type": "code",
   "execution_count": 6,
   "metadata": {
    "scrolled": true
   },
   "outputs": [
    {
     "name": "stdout",
     "output_type": "stream",
     "text": [
      "Number of rotation needed : 5\n",
      "Enter number of elements : 1\n",
      "Wrong chice\n"
     ]
    }
   ],
   "source": [
    "##Without using functions\n",
    "\n",
    "\"\"\"\n",
    "Approach-1\n",
    " *store the element like 'd' in temp list/array\n",
    " *left rotate by d element \n",
    " *store back the elements in the array\n",
    "\"\"\"\n",
    "rotateBy=int(input(\"Number of rotation needed : \")) \n",
    "\n",
    "# creating an empty list \n",
    "inputList = [] \n",
    "  \n",
    "# number of elemetns as input \n",
    "n = int(input(\"Enter number of elements : \"))\n",
    "#Checking the edge case\n",
    "if(rotateBy<=n):\n",
    "# iterating till the range \n",
    "    for i in range(0, n): \n",
    "        element = int(input(\"Enter \"+str(i)+\" number :\")) \n",
    "        inputList.append(element) \n",
    "\n",
    "    print(\"List before rotation : \"+str(inputList))\n",
    "    tempList=[]\n",
    "    for i in range(rotateBy):\n",
    "       tempList.append(inputList[i])\n",
    "\n",
    "    for i in range(len(inputList)-rotateBy):\n",
    "        inputList[i]=inputList[rotateBy+i]\n",
    "\n",
    "    for i in range(rotateBy):\n",
    "      inputList[len(inputList)-rotateBy+i]=tempList[i]\n",
    "\n",
    "    print(\"List After rotation : \"+str(inputList))\n",
    "else:\n",
    "    print(\"Wrong choice\")\n",
    "\n",
    "    #Time complexity : O(n)\n",
    "    #Auxiliary Space : O(d)"
   ]
  },
  {
   "cell_type": "code",
   "execution_count": 23,
   "metadata": {},
   "outputs": [
    {
     "name": "stdout",
     "output_type": "stream",
     "text": [
      "Before : [1, 2, 3, 4, 5, 6, 7]\n",
      "After : [7, 1, 2, 3, 4, 5, 6]\n"
     ]
    }
   ],
   "source": [
    "##Without using functions\n",
    "\n",
    "\"\"\"\n",
    "Approach-2\n",
    " *left rotate the complete list/array d times \n",
    "\"\"\"\n",
    "\n",
    "# Function to left Rotate arr[] of size n by 1\n",
    "def rotateArray(lis):\n",
    "    storeElememt=lis[0]\n",
    "    for i in range(0,len(lis)-1):\n",
    "        lis[i]=lis[i+1]\n",
    "    lis[len(lis)-1]=storeElememt\n",
    "\n",
    "def leftRotate(lis,rotate):\n",
    "    for i in range(0,rotate):\n",
    "        rotateArray(lis)\n",
    "        \n",
    "arr = [1, 2, 3, 4, 5, 6, 7] \n",
    "print(\"Before : \"+str(arr))\n",
    "leftRotate(arr,6) \n",
    "print(\"After : \"+str(arr))\n",
    "\n",
    " #Time complexity : O(n*d)\n",
    " #Auxiliary Space : O(1)"
   ]
  },
  {
   "cell_type": "code",
   "execution_count": 24,
   "metadata": {},
   "outputs": [
    {
     "name": "stdout",
     "output_type": "stream",
     "text": [
      " 3  4  5  6  7  1  2 "
     ]
    }
   ],
   "source": [
    "##Without using functions\n",
    "\n",
    "\"\"\"\n",
    "Approach-\n",
    " *A Juggling Algorithm\n",
    " *Instead of moving one by one, divide the array in different sets\n",
    "  where number of sets is equal to GCD of n and d and move the elements within sets.\n",
    "  Following is the code from GFG\n",
    "\"\"\"\n",
    "def leftRotate(arr, d, n): \n",
    "    d = d % n \n",
    "    g_c_d = gcd(d, n) \n",
    "    for i in range(g_c_d): \n",
    "          \n",
    "        # move i-th values of blocks  \n",
    "        temp = arr[i] \n",
    "        j = i \n",
    "        while 1: \n",
    "            k = j + d \n",
    "            if k >= n: \n",
    "                k = k - n \n",
    "            if k == i: \n",
    "                break\n",
    "            arr[j] = arr[k] \n",
    "            j = k \n",
    "        arr[j] = temp \n",
    "  \n",
    "# UTILITY FUNCTIONS \n",
    "# function to print an array  \n",
    "def printArray(arr, size): \n",
    "    for i in range(size): \n",
    "        print (\"% d\" % arr[i], end =\" \") \n",
    "  \n",
    "# Fuction to get gcd of a and b \n",
    "def gcd(a, b): \n",
    "    if b == 0: \n",
    "        return a; \n",
    "    else: \n",
    "        return gcd(b, a % b) \n",
    "  \n",
    "# Driver program to test above functions  \n",
    "arr = [1, 2, 3, 4, 5, 6, 7] \n",
    "n = len(arr) \n",
    "d = 2\n",
    "leftRotate(arr, d, n) \n",
    "printArray(arr, n) \n",
    "    "
   ]
  },
  {
   "cell_type": "code",
   "execution_count": null,
   "metadata": {},
   "outputs": [],
   "source": []
  }
 ],
 "metadata": {
  "kernelspec": {
   "display_name": "Python 3",
   "language": "python",
   "name": "python3"
  },
  "language_info": {
   "codemirror_mode": {
    "name": "ipython",
    "version": 3
   },
   "file_extension": ".py",
   "mimetype": "text/x-python",
   "name": "python",
   "nbconvert_exporter": "python",
   "pygments_lexer": "ipython3",
   "version": "3.8.3"
  }
 },
 "nbformat": 4,
 "nbformat_minor": 4
}
