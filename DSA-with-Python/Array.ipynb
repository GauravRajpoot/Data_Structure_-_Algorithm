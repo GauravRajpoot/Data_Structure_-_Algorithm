{
 "cells": [
  {
   "cell_type": "markdown",
   "metadata": {},
   "source": [
    "## Arrays in python\n"
   ]
  },
  {
   "cell_type": "markdown",
   "metadata": {},
   "source": [
    "#### 1. array(data type, value list):- This function is used to create an array with data type and value list specified in its arguments.\n",
    "\n",
    "#### 2. append():- This function is used to add the value mentioned in its arguments at the end of the array.\n",
    "\n",
    "#### 3. insert(i,x) :- This function is used to add the value(x) at the ith position specified in its argument.\n",
    "\n",
    "#### 4. pop():- This function removes the element at the position mentioned in its argument and returns it.\n",
    "\n",
    "#### 5. remove():- This function is used to remove the first occurrence of the value mentioned in its arguments.\n",
    "\n",
    "#### 6. index() :- This function returns the index of the first occurrence of value mentioned in arguments.\n",
    "\n",
    "#### 7. reverse() :- This function reverses the array.\n"
   ]
  },
  {
   "cell_type": "code",
   "execution_count": 39,
   "metadata": {},
   "outputs": [],
   "source": [
    "import array\n",
    "arr=array.array('i',[1,2,3])"
   ]
  },
  {
   "cell_type": "code",
   "execution_count": 11,
   "metadata": {},
   "outputs": [
    {
     "name": "stdout",
     "output_type": "stream",
     "text": [
      "Element of array 1\n",
      "Element of array 2\n",
      "Element of array 3\n"
     ]
    }
   ],
   "source": [
    "for i in range(0,3):\n",
    "    print(\"Element of array\",arr[i])"
   ]
  },
  {
   "cell_type": "code",
   "execution_count": 31,
   "metadata": {},
   "outputs": [
    {
     "name": "stdout",
     "output_type": "stream",
     "text": [
      "array('i', [1, 2, 3, 5])\n"
     ]
    }
   ],
   "source": [
    "arr.append(5)\n",
    "print(arr)"
   ]
  },
  {
   "cell_type": "code",
   "execution_count": 32,
   "metadata": {},
   "outputs": [
    {
     "name": "stdout",
     "output_type": "stream",
     "text": [
      "array('i', [2, 3, 5])\n"
     ]
    }
   ],
   "source": [
    "arr.pop(0)\n",
    "print(arr)"
   ]
  },
  {
   "cell_type": "code",
   "execution_count": 38,
   "metadata": {},
   "outputs": [
    {
     "name": "stdout",
     "output_type": "stream",
     "text": [
      "array('i', [5])\n"
     ]
    }
   ],
   "source": [
    "#arr.remove(2)\n",
    "print(arr)"
   ]
  },
  {
   "cell_type": "code",
   "execution_count": 40,
   "metadata": {},
   "outputs": [
    {
     "data": {
      "text/plain": [
       "0"
      ]
     },
     "execution_count": 40,
     "metadata": {},
     "output_type": "execute_result"
    }
   ],
   "source": [
    "arr.index(1)"
   ]
  },
  {
   "cell_type": "code",
   "execution_count": 47,
   "metadata": {},
   "outputs": [],
   "source": [
    "arr.reverse()"
   ]
  },
  {
   "cell_type": "code",
   "execution_count": null,
   "metadata": {},
   "outputs": [],
   "source": [
    "arr"
   ]
  },
  {
   "cell_type": "markdown",
   "metadata": {},
   "source": [
    "### List in python\n"
   ]
  },
  {
   "cell_type": "code",
   "execution_count": 49,
   "metadata": {},
   "outputs": [],
   "source": [
    "lis=[1,2,3,4]"
   ]
  },
  {
   "cell_type": "code",
   "execution_count": 51,
   "metadata": {},
   "outputs": [
    {
     "data": {
      "text/plain": [
       "list"
      ]
     },
     "execution_count": 51,
     "metadata": {},
     "output_type": "execute_result"
    }
   ],
   "source": [
    "type(lis)"
   ]
  },
  {
   "cell_type": "code",
   "execution_count": 52,
   "metadata": {},
   "outputs": [],
   "source": [
    "lis.append(5)"
   ]
  },
  {
   "cell_type": "code",
   "execution_count": 53,
   "metadata": {},
   "outputs": [
    {
     "data": {
      "text/plain": [
       "[1, 2, 3, 4, 5]"
      ]
     },
     "execution_count": 53,
     "metadata": {},
     "output_type": "execute_result"
    }
   ],
   "source": [
    "lis"
   ]
  },
  {
   "cell_type": "code",
   "execution_count": 55,
   "metadata": {},
   "outputs": [
    {
     "data": {
      "text/plain": [
       "5"
      ]
     },
     "execution_count": 55,
     "metadata": {},
     "output_type": "execute_result"
    }
   ],
   "source": [
    "lis.pop()"
   ]
  },
  {
   "cell_type": "code",
   "execution_count": null,
   "metadata": {},
   "outputs": [],
   "source": [
    "lis.reverse()"
   ]
  },
  {
   "cell_type": "code",
   "execution_count": null,
   "metadata": {},
   "outputs": [],
   "source": [
    "lis"
   ]
  },
  {
   "cell_type": "markdown",
   "metadata": {},
   "source": [
    "### Program for array rotation"
   ]
  },
  {
   "cell_type": "code",
   "execution_count": 6,
   "metadata": {},
   "outputs": [
    {
     "name": "stdout",
     "output_type": "stream",
     "text": [
      "Number of rotation needed : 5\n",
      "Enter number of elements : 1\n",
      "Wrong chice\n"
     ]
    }
   ],
   "source": [
    "##Without using functions\n",
    "\n",
    "\"\"\"\n",
    "Approach-1\n",
    " *store the element like 'd' in temp list/array\n",
    " *left rotate by d element \n",
    " *store back the elements in the array\n",
    "\"\"\"\n",
    "rotateBy=int(input(\"Number of rotation needed : \")) \n",
    "\n",
    "# creating an empty list \n",
    "inputList = [] \n",
    "  \n",
    "# number of elemetns as input \n",
    "n = int(input(\"Enter number of elements : \"))\n",
    "#Checking the edge case\n",
    "if(rotateBy<=n):\n",
    "# iterating till the range \n",
    "    for i in range(0, n): \n",
    "        element = int(input(\"Enter \"+str(i)+\" number :\")) \n",
    "        inputList.append(element) \n",
    "\n",
    "    print(\"List before rotation : \"+str(inputList))\n",
    "    tempList=[]\n",
    "    for i in range(rotateBy):\n",
    "       tempList.append(inputList[i])\n",
    "\n",
    "    for i in range(len(inputList)-rotateBy):\n",
    "        inputList[i]=inputList[rotateBy+i]\n",
    "\n",
    "    for i in range(rotateBy):\n",
    "      inputList[len(inputList)-rotateBy+i]=tempList[i]\n",
    "\n",
    "    print(\"List After rotation : \"+str(inputList))\n",
    "else:\n",
    "    print(\"Wrong choice\")\n",
    "\n",
    "    #Time complexity : O(n)\n",
    "    #Auxiliary Space : O(d)"
   ]
  },
  {
   "cell_type": "markdown",
   "metadata": {},
   "source": []
  },
  {
   "cell_type": "code",
   "execution_count": 154,
   "metadata": {},
   "outputs": [],
   "source": []
  },
  {
   "cell_type": "code",
   "execution_count": null,
   "metadata": {},
   "outputs": [],
   "source": []
  },
  {
   "cell_type": "code",
   "execution_count": null,
   "metadata": {},
   "outputs": [],
   "source": []
  },
  {
   "cell_type": "code",
   "execution_count": null,
   "metadata": {},
   "outputs": [],
   "source": []
  }
 ],
 "metadata": {
  "kernelspec": {
   "display_name": "Python 3",
   "language": "python",
   "name": "python3"
  },
  "language_info": {
   "codemirror_mode": {
    "name": "ipython",
    "version": 3
   },
   "file_extension": ".py",
   "mimetype": "text/x-python",
   "name": "python",
   "nbconvert_exporter": "python",
   "pygments_lexer": "ipython3",
   "version": "3.8.3"
  }
 },
 "nbformat": 4,
 "nbformat_minor": 4
}
