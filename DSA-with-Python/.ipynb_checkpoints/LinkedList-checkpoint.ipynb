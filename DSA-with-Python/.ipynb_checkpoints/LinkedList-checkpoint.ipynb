{
 "cells": [
  {
   "cell_type": "markdown",
   "metadata": {},
   "source": [
    "# Link list\n",
    "\n",
    "1) Dynamic size \n",
    "2) Ease of insertion/deletion\n",
    "\n",
    "Drawbacks:\n",
    "1) Random access is not allowed. We have to access elements sequentially starting from the first node. So we cannot do binary search with linked lists efficiently with its default implementation. Read about it here.\n",
    "2) Extra memory space for a pointer is required with each element of the list."
   ]
  },
  {
   "cell_type": "markdown",
   "metadata": {},
   "source": [
    "#### Basics of OOPs in python"
   ]
  },
  {
   "cell_type": "code",
   "execution_count": 2,
   "metadata": {},
   "outputs": [],
   "source": [
    "class demo:\n",
    "    x=4"
   ]
  },
  {
   "cell_type": "code",
   "execution_count": 5,
   "metadata": {},
   "outputs": [
    {
     "data": {
      "text/plain": [
       "4"
      ]
     },
     "execution_count": 5,
     "metadata": {},
     "output_type": "execute_result"
    }
   ],
   "source": [
    "access =demo()\n",
    "access.x"
   ]
  },
  {
   "cell_type": "code",
   "execution_count": 25,
   "metadata": {
    "scrolled": true
   },
   "outputs": [
    {
     "name": "stdout",
     "output_type": "stream",
     "text": [
      "Printing the age :23\n",
      "Printing the age :33\n",
      "Printing the age :33\n"
     ]
    }
   ],
   "source": [
    "# Use of init method\n",
    "class person:\n",
    "    def __init__(self,name,age):\n",
    "        self.name=name\n",
    "        self.age=age\n",
    "    \n",
    "    def random(self):\n",
    "        print(\"Printing the age :\"+str(self.age))\n",
    "        \n",
    "p=person(\"Gaurav\",23)\n",
    "p.random()\n",
    "\n",
    "#Modification of fields\n",
    "p.age=33\n",
    "p.random()\n",
    "\n",
    "#We can also delete the attributes\n",
    "#del p.age\n",
    "p.random()"
   ]
  },
  {
   "cell_type": "raw",
   "metadata": {},
   "source": [
    "#The self parameter is a reference to the current instance of the class, and is used to access variables that belongs to the class."
   ]
  },
  {
   "cell_type": "code",
   "execution_count": 21,
   "metadata": {},
   "outputs": [
    {
     "name": "stdout",
     "output_type": "stream",
     "text": [
      "Hello my name is John\n"
     ]
    }
   ],
   "source": [
    "class Person:\n",
    "  def __init__(mysillyobject, name, age):\n",
    "    mysillyobject.name = name\n",
    "    mysillyobject.age = age\n",
    "\n",
    "  def myfunc(abc):\n",
    "    print(\"Hello my name is \" + abc.name)\n",
    "\n",
    "p1 = Person(\"John\", 36)\n",
    "p1.myfunc()"
   ]
  },
  {
   "cell_type": "code",
   "execution_count": 28,
   "metadata": {},
   "outputs": [],
   "source": [
    "#Creating a linklist with 3 nodes\n",
    "\n",
    "class Node:\n",
    "    # Function to initialise the node object \n",
    "    def __init__(self,data):\n",
    "        self.data=data\n",
    "        self.next=None\n",
    "        \n",
    "# Linked List class contains a Node object \n",
    "class LinkedList: \n",
    "    # Function to initialize head \n",
    "    def __init__(self): \n",
    "        self.head = None\n",
    "        \n",
    "# Code execution starts here \n",
    "if __name__=='__main__': \n",
    "    llist=LinkedList()\n",
    "    llist.head=Node(1)\n",
    "    second=Node(2)\n",
    "    third=Node(3)\n",
    "    \n",
    "    llist.head.next=second\n",
    "    second.next=third\n",
    "    third.next=None\n",
    "    "
   ]
  },
  {
   "cell_type": "code",
   "execution_count": null,
   "metadata": {},
   "outputs": [],
   "source": [
    "#Linked List Traversal\n",
    "class Node:\n",
    "    # Function to initialise the node object \n",
    "    def __init__(self,data):\n",
    "        self.data=data\n",
    "        self.next=None\n",
    "        \n",
    "# Linked List class contains a Node object \n",
    "class LinkedList: \n",
    "    # Function to initialize head \n",
    "    def __init__(self): \n",
    "        self.head = None\n",
    "    \n",
    "    #Method to print the node of linkedlist\n",
    "    \n",
    "    def printNodes(self):\n",
    "        temp=self.head\n",
    "        while(temp):\n",
    "            print(temp.data)\n",
    "            temp=temp.next\n",
    "            \n",
    "    def deletionFromBegining(self):\n",
    "        temp=self.head\n",
    "        self.head=temp.next\n",
    "    \n",
    "    def deletionFromEnd(self):\n",
    "        temp=self.head\n",
    "        temp2=temp.next\n",
    "        while(temp2.next):\n",
    "            temp.next=None\n",
    "        \n",
    "                 \n",
    "# Code execution starts here \n",
    "if __name__=='__main__': \n",
    "    llist=LinkedList()\n",
    "    llist.head=Node(1)\n",
    "    second=Node(2)\n",
    "    third=Node(3)\n",
    "    \n",
    "    llist.head.next=second\n",
    "    second.next=third\n",
    "    third.next=None\n",
    "    #llist.deletionFromEnd()\n",
    "    llist.printNodes()"
   ]
  },
  {
   "cell_type": "markdown",
   "metadata": {},
   "source": [
    "### Insertion in the linklist\n",
    "* At the front of the linked list \n",
    "* After a given node. \n",
    "* At the end of the linked list."
   ]
  },
  {
   "cell_type": "code",
   "execution_count": 51,
   "metadata": {},
   "outputs": [],
   "source": [
    "    def insertInBeginigOfLinkList(self):\n",
    "        begNode=Node(4)\n",
    "        begNode.next=self.head\n",
    "        self.head=begNode\n",
    "        \n",
    "    def insertAtEndOfList(self):\n",
    "        endNode=Node(5)\n",
    "        temp=self.head\n",
    "        while(temp.next):\n",
    "            temp=temp.next\n",
    "        temp.next=endNode\n",
    "        \n",
    "    def insertAtParticularNode(self,dataItem):\n",
    "        randomNode=Node(6)\n",
    "        temp=self.head\n",
    "        while(temp.data!=dataItem):\n",
    "            temp=temp.next\n",
    "        randomNode.next=temp.next\n",
    "        temp.next=randomNode\n",
    "            "
   ]
  },
  {
   "cell_type": "markdown",
   "metadata": {},
   "source": [
    "### Deletion in the linklist\n",
    "* At the front of the linked list \n",
    "* After a given node. \n",
    "* At the end of the linked list."
   ]
  },
  {
   "cell_type": "code",
   "execution_count": 1,
   "metadata": {},
   "outputs": [
    {
     "data": {
      "text/plain": [
       "5"
      ]
     },
     "execution_count": 1,
     "metadata": {},
     "output_type": "execute_result"
    }
   ],
   "source": [
    "2+3"
   ]
  },
  {
   "cell_type": "code",
   "execution_count": null,
   "metadata": {},
   "outputs": [],
   "source": []
  }
 ],
 "metadata": {
  "kernelspec": {
   "display_name": "Python 3",
   "language": "python",
   "name": "python3"
  },
  "language_info": {
   "codemirror_mode": {
    "name": "ipython",
    "version": 3
   },
   "file_extension": ".py",
   "mimetype": "text/x-python",
   "name": "python",
   "nbconvert_exporter": "python",
   "pygments_lexer": "ipython3",
   "version": "3.8.3"
  }
 },
 "nbformat": 4,
 "nbformat_minor": 4
}
